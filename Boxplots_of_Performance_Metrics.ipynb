{
  "nbformat": 4,
  "nbformat_minor": 0,
  "metadata": {
    "colab": {
      "name": "Boxplots of Performance Metrics.ipynb",
      "provenance": [],
      "toc_visible": true,
      "history_visible": true
    },
    "kernelspec": {
      "name": "python3",
      "display_name": "Python 3"
    }
  },
  "cells": [
    {
      "cell_type": "markdown",
      "metadata": {
        "id": "gfl5Rg6Nzlr3"
      },
      "source": [
        "# Boxplots"
      ]
    },
    {
      "cell_type": "code",
      "metadata": {
        "id": "D-14qX3oynJe"
      },
      "source": [
        "#load required libraries\r\n",
        "import pandas as pd\r\n",
        "import matplotlib.pyplot as plt\r\n",
        "\r\n",
        "#load in the performance metrics.\r\n",
        "cnn = pd.read_csv(\"https://raw.githubusercontent.com/chloeworthington/SCC413-Computer-Vision-Coursework/main/CNN_performance_metrics.csv\")\r\n",
        "lstm = pd.read_csv(\"https://raw.githubusercontent.com/chloeworthington/SCC413-Computer-Vision-Coursework/main/LSTM_performance_metrics.csv\")"
      ],
      "execution_count": 2,
      "outputs": []
    },
    {
      "cell_type": "markdown",
      "metadata": {
        "id": "bCP75Amw0Waf"
      },
      "source": [
        "Boxplot for the accuracy measures."
      ]
    },
    {
      "cell_type": "code",
      "metadata": {
        "colab": {
          "base_uri": "https://localhost:8080/",
          "height": 752
        },
        "id": "EPQA7VB60ZrH",
        "outputId": "e4b134d0-a367-428b-88a0-64671e454344"
      },
      "source": [
        "plt.boxplot([cnn[\"Accuracy1\"], cnn[\"Accuracy2\"], lstm[\"Accuracy1\"], \r\n",
        "             lstm[\"Accuracy2\"]], labels = [\"CNN Accuracy 1\", \"CNN Accuracy 2\", \r\n",
        "                                            \"LSTM Accuracy 1\", \"LSTM Accuracy 2\"])"
      ],
      "execution_count": 6,
      "outputs": [
        {
          "output_type": "execute_result",
          "data": {
            "text/plain": [
              "{'boxes': [<matplotlib.lines.Line2D at 0x7fd1917c7dd8>,\n",
              "  <matplotlib.lines.Line2D at 0x7fd19176b6a0>,\n",
              "  <matplotlib.lines.Line2D at 0x7fd19177af28>,\n",
              "  <matplotlib.lines.Line2D at 0x7fd19178e828>],\n",
              " 'caps': [<matplotlib.lines.Line2D at 0x7fd19175f828>,\n",
              "  <matplotlib.lines.Line2D at 0x7fd19175fba8>,\n",
              "  <matplotlib.lines.Line2D at 0x7fd19177a160>,\n",
              "  <matplotlib.lines.Line2D at 0x7fd19177a4e0>,\n",
              "  <matplotlib.lines.Line2D at 0x7fd191783a20>,\n",
              "  <matplotlib.lines.Line2D at 0x7fd191783da0>,\n",
              "  <matplotlib.lines.Line2D at 0x7fd191798320>,\n",
              "  <matplotlib.lines.Line2D at 0x7fd1917986a0>],\n",
              " 'fliers': [<matplotlib.lines.Line2D at 0x7fd19176b2e8>,\n",
              "  <matplotlib.lines.Line2D at 0x7fd19177abe0>,\n",
              "  <matplotlib.lines.Line2D at 0x7fd19178e4e0>,\n",
              "  <matplotlib.lines.Line2D at 0x7fd191798da0>],\n",
              " 'means': [],\n",
              " 'medians': [<matplotlib.lines.Line2D at 0x7fd19175ff28>,\n",
              "  <matplotlib.lines.Line2D at 0x7fd19177a860>,\n",
              "  <matplotlib.lines.Line2D at 0x7fd19178e160>,\n",
              "  <matplotlib.lines.Line2D at 0x7fd191798a20>],\n",
              " 'whiskers': [<matplotlib.lines.Line2D at 0x7fd19175f128>,\n",
              "  <matplotlib.lines.Line2D at 0x7fd19175f4a8>,\n",
              "  <matplotlib.lines.Line2D at 0x7fd19176ba20>,\n",
              "  <matplotlib.lines.Line2D at 0x7fd19176bda0>,\n",
              "  <matplotlib.lines.Line2D at 0x7fd191783320>,\n",
              "  <matplotlib.lines.Line2D at 0x7fd1917836a0>,\n",
              "  <matplotlib.lines.Line2D at 0x7fd19178ebe0>,\n",
              "  <matplotlib.lines.Line2D at 0x7fd19178ef60>]}"
            ]
          },
          "metadata": {
            "tags": []
          },
          "execution_count": 6
        },
        {
          "output_type": "display_data",
          "data": {
            "image/png": "[encoded data removed]",
            "text/plain": [
              "<Figure size 432x288 with 1 Axes>"
            ]
          },
          "metadata": {
            "tags": [],
            "needs_background": "light"
          }
        }
      ]
    },
    {
      "cell_type": "code",
      "metadata": {
        "colab": {
          "base_uri": "https://localhost:8080/",
          "height": 517
        },
        "id": "0d1QNCUv2NU5",
        "outputId": "3d515eb5-b688-4cf2-930b-0859bc1a1f5f"
      },
      "source": [
        "plt.boxplot([cnn[\"Accuracy1\"], lstm[\"Accuracy1\"]], labels = [\"CNN Accuracy\", \r\n",
        "                                                             \"LSTM Accuracy\"])"
      ],
      "execution_count": 7,
      "outputs": [
        {
          "output_type": "execute_result",
          "data": {
            "text/plain": [
              "{'boxes': [<matplotlib.lines.Line2D at 0x7fd191263390>,\n",
              "  <matplotlib.lines.Line2D at 0x7fd19126fba8>],\n",
              " 'caps': [<matplotlib.lines.Line2D at 0x7fd191263da0>,\n",
              "  <matplotlib.lines.Line2D at 0x7fd19126f160>,\n",
              "  <matplotlib.lines.Line2D at 0x7fd19127b6a0>,\n",
              "  <matplotlib.lines.Line2D at 0x7fd19127ba20>],\n",
              " 'fliers': [<matplotlib.lines.Line2D at 0x7fd19126f860>,\n",
              "  <matplotlib.lines.Line2D at 0x7fd191287160>],\n",
              " 'means': [],\n",
              " 'medians': [<matplotlib.lines.Line2D at 0x7fd19126f4e0>,\n",
              "  <matplotlib.lines.Line2D at 0x7fd19127bda0>],\n",
              " 'whiskers': [<matplotlib.lines.Line2D at 0x7fd1912636a0>,\n",
              "  <matplotlib.lines.Line2D at 0x7fd191263a20>,\n",
              "  <matplotlib.lines.Line2D at 0x7fd19126ff60>,\n",
              "  <matplotlib.lines.Line2D at 0x7fd19127b320>]}"
            ]
          },
          "metadata": {
            "tags": []
          },
          "execution_count": 7
        },
        {
          "output_type": "display_data",
          "data": {
            "image/png": "[encoded data removed]",
            "text/plain": [
              "<Figure size 432x288 with 1 Axes>"
            ]
          },
          "metadata": {
            "tags": [],
            "needs_background": "light"
          }
        }
      ]
    },
    {
      "cell_type": "markdown",
      "metadata": {
        "id": "Bm5_AilP2c0U"
      },
      "source": [
        "Boxplot for precision score."
      ]
    },
    {
      "cell_type": "code",
      "metadata": {
        "colab": {
          "base_uri": "https://localhost:8080/",
          "height": 752
        },
        "id": "B_WtXYS12fmR",
        "outputId": "2c1a687a-568c-472b-b901-44703f6f5688"
      },
      "source": [
        "plt.boxplot([cnn[\"Precision1\"], cnn[\"Precision2\"], lstm[\"Precision1\"], \r\n",
        "             lstm[\"Precision2\"]], labels = [\"CNN Precision 1\", \r\n",
        "                                            \"CNN Precision 2\", \r\n",
        "                                            \"LSTM Precision 1\", \r\n",
        "                                            \"LSTM Precison 2\"])"
      ],
      "execution_count": 8,
      "outputs": [
        {
          "output_type": "execute_result",
          "data": {
            "text/plain": [
              "{'boxes': [<matplotlib.lines.Line2D at 0x7fd1911e39b0>,\n",
              "  <matplotlib.lines.Line2D at 0x7fd1911fd208>,\n",
              "  <matplotlib.lines.Line2D at 0x7fd19120aac8>,\n",
              "  <matplotlib.lines.Line2D at 0x7fd1911a03c8>],\n",
              " 'caps': [<matplotlib.lines.Line2D at 0x7fd1911f4400>,\n",
              "  <matplotlib.lines.Line2D at 0x7fd1911f4780>,\n",
              "  <matplotlib.lines.Line2D at 0x7fd1911fdcc0>,\n",
              "  <matplotlib.lines.Line2D at 0x7fd19120a080>,\n",
              "  <matplotlib.lines.Line2D at 0x7fd1911955c0>,\n",
              "  <matplotlib.lines.Line2D at 0x7fd191195940>,\n",
              "  <matplotlib.lines.Line2D at 0x7fd1911a0e80>,\n",
              "  <matplotlib.lines.Line2D at 0x7fd1911ac240>],\n",
              " 'fliers': [<matplotlib.lines.Line2D at 0x7fd1911f4e80>,\n",
              "  <matplotlib.lines.Line2D at 0x7fd19120a780>,\n",
              "  <matplotlib.lines.Line2D at 0x7fd1911a0080>,\n",
              "  <matplotlib.lines.Line2D at 0x7fd1911ac940>],\n",
              " 'means': [],\n",
              " 'medians': [<matplotlib.lines.Line2D at 0x7fd1911f4b00>,\n",
              "  <matplotlib.lines.Line2D at 0x7fd19120a400>,\n",
              "  <matplotlib.lines.Line2D at 0x7fd191195cc0>,\n",
              "  <matplotlib.lines.Line2D at 0x7fd1911ac5c0>],\n",
              " 'whiskers': [<matplotlib.lines.Line2D at 0x7fd1911e3cc0>,\n",
              "  <matplotlib.lines.Line2D at 0x7fd1911f4080>,\n",
              "  <matplotlib.lines.Line2D at 0x7fd1911fd5c0>,\n",
              "  <matplotlib.lines.Line2D at 0x7fd1911fd940>,\n",
              "  <matplotlib.lines.Line2D at 0x7fd19120ae80>,\n",
              "  <matplotlib.lines.Line2D at 0x7fd191195240>,\n",
              "  <matplotlib.lines.Line2D at 0x7fd1911a0780>,\n",
              "  <matplotlib.lines.Line2D at 0x7fd1911a0b00>]}"
            ]
          },
          "metadata": {
            "tags": []
          },
          "execution_count": 8
        },
        {
          "output_type": "display_data",
          "data": {
            "image/png": "[encoded data removed]",
            "text/plain": [
              "<Figure size 432x288 with 1 Axes>"
            ]
          },
          "metadata": {
            "tags": [],
            "needs_background": "light"
          }
        }
      ]
    },
    {
      "cell_type": "code",
      "metadata": {
        "colab": {
          "base_uri": "https://localhost:8080/",
          "height": 517
        },
        "id": "KcXp4wEK25XO",
        "outputId": "9741dd22-98bc-4f86-fbf6-9178cf96af2b"
      },
      "source": [
        "plt.boxplot([cnn[\"Precision1\"], lstm[\"Precision1\"]], labels = [\"CNN Precision\",\r\n",
        "                                                              \"LSTM Precision\"])"
      ],
      "execution_count": 10,
      "outputs": [
        {
          "output_type": "execute_result",
          "data": {
            "text/plain": [
              "{'boxes': [<matplotlib.lines.Line2D at 0x7fd1910da320>,\n",
              "  <matplotlib.lines.Line2D at 0x7fd1910e7b38>],\n",
              " 'caps': [<matplotlib.lines.Line2D at 0x7fd1910dad30>,\n",
              "  <matplotlib.lines.Line2D at 0x7fd1910e70f0>,\n",
              "  <matplotlib.lines.Line2D at 0x7fd1910f0630>,\n",
              "  <matplotlib.lines.Line2D at 0x7fd1910f09b0>],\n",
              " 'fliers': [<matplotlib.lines.Line2D at 0x7fd1910e77f0>,\n",
              "  <matplotlib.lines.Line2D at 0x7fd1910fb0f0>],\n",
              " 'means': [],\n",
              " 'medians': [<matplotlib.lines.Line2D at 0x7fd1910e7470>,\n",
              "  <matplotlib.lines.Line2D at 0x7fd1910f0d30>],\n",
              " 'whiskers': [<matplotlib.lines.Line2D at 0x7fd1910da630>,\n",
              "  <matplotlib.lines.Line2D at 0x7fd1910da9b0>,\n",
              "  <matplotlib.lines.Line2D at 0x7fd1910e7ef0>,\n",
              "  <matplotlib.lines.Line2D at 0x7fd1910f02b0>]}"
            ]
          },
          "metadata": {
            "tags": []
          },
          "execution_count": 10
        },
        {
          "output_type": "display_data",
          "data": {
            "image/png": "[encoded data removed]",
            "text/plain": [
              "<Figure size 432x288 with 1 Axes>"
            ]
          },
          "metadata": {
            "tags": [],
            "needs_background": "light"
          }
        }
      ]
    },
    {
      "cell_type": "markdown",
      "metadata": {
        "id": "AICmSNAC3TbV"
      },
      "source": [
        "Boxplot for recall score."
      ]
    },
    {
      "cell_type": "code",
      "metadata": {
        "colab": {
          "base_uri": "https://localhost:8080/",
          "height": 752
        },
        "id": "Npn6Gbk23WQc",
        "outputId": "7a68fc1a-3527-49d2-b85e-616cde8690a7"
      },
      "source": [
        "plt.boxplot([cnn[\"Recall1\"], cnn[\"Recall2\"], lstm[\"Recall1\"], lstm[\"Recall2\"]], \r\n",
        "            labels = [\"CNN Recall 1\", \"CNN Recall 2\", \"LSTM Recall 1\", \r\n",
        "                      \"LSTM Recall 2\"])"
      ],
      "execution_count": 11,
      "outputs": [
        {
          "output_type": "execute_result",
          "data": {
            "text/plain": [
              "{'boxes': [<matplotlib.lines.Line2D at 0x7fd19105f278>,\n",
              "  <matplotlib.lines.Line2D at 0x7fd191069a90>,\n",
              "  <matplotlib.lines.Line2D at 0x7fd19107f390>,\n",
              "  <matplotlib.lines.Line2D at 0x7fd191089c50>],\n",
              " 'caps': [<matplotlib.lines.Line2D at 0x7fd19105fc88>,\n",
              "  <matplotlib.lines.Line2D at 0x7fd191069048>,\n",
              "  <matplotlib.lines.Line2D at 0x7fd191075588>,\n",
              "  <matplotlib.lines.Line2D at 0x7fd191075908>,\n",
              "  <matplotlib.lines.Line2D at 0x7fd19107fe48>,\n",
              "  <matplotlib.lines.Line2D at 0x7fd191089208>,\n",
              "  <matplotlib.lines.Line2D at 0x7fd191016748>,\n",
              "  <matplotlib.lines.Line2D at 0x7fd191016ac8>],\n",
              " 'fliers': [<matplotlib.lines.Line2D at 0x7fd191069748>,\n",
              "  <matplotlib.lines.Line2D at 0x7fd19107f048>,\n",
              "  <matplotlib.lines.Line2D at 0x7fd191089908>,\n",
              "  <matplotlib.lines.Line2D at 0x7fd19101f208>],\n",
              " 'means': [],\n",
              " 'medians': [<matplotlib.lines.Line2D at 0x7fd1910693c8>,\n",
              "  <matplotlib.lines.Line2D at 0x7fd191075c88>,\n",
              "  <matplotlib.lines.Line2D at 0x7fd191089588>,\n",
              "  <matplotlib.lines.Line2D at 0x7fd191016e48>],\n",
              " 'whiskers': [<matplotlib.lines.Line2D at 0x7fd19105f588>,\n",
              "  <matplotlib.lines.Line2D at 0x7fd19105f908>,\n",
              "  <matplotlib.lines.Line2D at 0x7fd191069e48>,\n",
              "  <matplotlib.lines.Line2D at 0x7fd191075208>,\n",
              "  <matplotlib.lines.Line2D at 0x7fd19107f748>,\n",
              "  <matplotlib.lines.Line2D at 0x7fd19107fac8>,\n",
              "  <matplotlib.lines.Line2D at 0x7fd191016048>,\n",
              "  <matplotlib.lines.Line2D at 0x7fd1910163c8>]}"
            ]
          },
          "metadata": {
            "tags": []
          },
          "execution_count": 11
        },
        {
          "output_type": "display_data",
          "data": {
            "image/png": "[encoded data removed]",
            "text/plain": [
              "<Figure size 432x288 with 1 Axes>"
            ]
          },
          "metadata": {
            "tags": [],
            "needs_background": "light"
          }
        }
      ]
    },
    {
      "cell_type": "code",
      "metadata": {
        "colab": {
          "base_uri": "https://localhost:8080/",
          "height": 517
        },
        "id": "QBp-D0xe3rMP",
        "outputId": "b937a044-a2cc-49ef-a8e3-91b0f0f64114"
      },
      "source": [
        "plt.boxplot([cnn[\"Recall1\"], lstm[\"Recall1\"]], labels = [\"CNN Recall\", \r\n",
        "                                                         \"LSTM Recall\"])"
      ],
      "execution_count": 12,
      "outputs": [
        {
          "output_type": "execute_result",
          "data": {
            "text/plain": [
              "{'boxes': [<matplotlib.lines.Line2D at 0x7fd190ffb358>,\n",
              "  <matplotlib.lines.Line2D at 0x7fd191009b70>],\n",
              " 'caps': [<matplotlib.lines.Line2D at 0x7fd190ffbd68>,\n",
              "  <matplotlib.lines.Line2D at 0x7fd191009128>,\n",
              "  <matplotlib.lines.Line2D at 0x7fd190f93668>,\n",
              "  <matplotlib.lines.Line2D at 0x7fd190f939e8>],\n",
              " 'fliers': [<matplotlib.lines.Line2D at 0x7fd191009828>,\n",
              "  <matplotlib.lines.Line2D at 0x7fd190f9d128>],\n",
              " 'means': [],\n",
              " 'medians': [<matplotlib.lines.Line2D at 0x7fd1910094a8>,\n",
              "  <matplotlib.lines.Line2D at 0x7fd190f93d68>],\n",
              " 'whiskers': [<matplotlib.lines.Line2D at 0x7fd190ffb668>,\n",
              "  <matplotlib.lines.Line2D at 0x7fd190ffb9e8>,\n",
              "  <matplotlib.lines.Line2D at 0x7fd191009f28>,\n",
              "  <matplotlib.lines.Line2D at 0x7fd190f932e8>]}"
            ]
          },
          "metadata": {
            "tags": []
          },
          "execution_count": 12
        },
        {
          "output_type": "display_data",
          "data": {
            "image/png": "[encoded data removed]",
            "text/plain": [
              "<Figure size 432x288 with 1 Axes>"
            ]
          },
          "metadata": {
            "tags": [],
            "needs_background": "light"
          }
        }
      ]
    },
    {
      "cell_type": "markdown",
      "metadata": {
        "id": "iOTomHfM39N3"
      },
      "source": [
        "Boxplot for F1 score."
      ]
    },
    {
      "cell_type": "code",
      "metadata": {
        "colab": {
          "base_uri": "https://localhost:8080/",
          "height": 752
        },
        "id": "h0XISiFh3_Rx",
        "outputId": "11646b5d-107a-44c1-ac68-3859d173975e"
      },
      "source": [
        "plt.boxplot([cnn[\"F1Score1\"], cnn[\"F1Score2\"], lstm[\"F1Score1\"], \r\n",
        "             lstm[\"F1Score2\"]], labels = [\"CNN F1 1\", \"CNN F1 2\", \"LSTM F1 1\", \r\n",
        "                                          \"LSTM F1 2\"])"
      ],
      "execution_count": 14,
      "outputs": [
        {
          "output_type": "execute_result",
          "data": {
            "text/plain": [
              "{'boxes': [<matplotlib.lines.Line2D at 0x7fd190f86da0>,\n",
              "  <matplotlib.lines.Line2D at 0x7fd190f205f8>,\n",
              "  <matplotlib.lines.Line2D at 0x7fd190f2beb8>,\n",
              "  <matplotlib.lines.Line2D at 0x7fd190f407b8>],\n",
              " 'caps': [<matplotlib.lines.Line2D at 0x7fd190f167f0>,\n",
              "  <matplotlib.lines.Line2D at 0x7fd190f16b70>,\n",
              "  <matplotlib.lines.Line2D at 0x7fd190f2b0f0>,\n",
              "  <matplotlib.lines.Line2D at 0x7fd190f2b470>,\n",
              "  <matplotlib.lines.Line2D at 0x7fd190f359b0>,\n",
              "  <matplotlib.lines.Line2D at 0x7fd190f35d30>,\n",
              "  <matplotlib.lines.Line2D at 0x7fd190f492b0>,\n",
              "  <matplotlib.lines.Line2D at 0x7fd190f49630>],\n",
              " 'fliers': [<matplotlib.lines.Line2D at 0x7fd190f202b0>,\n",
              "  <matplotlib.lines.Line2D at 0x7fd190f2bb70>,\n",
              "  <matplotlib.lines.Line2D at 0x7fd190f40470>,\n",
              "  <matplotlib.lines.Line2D at 0x7fd190f49d30>],\n",
              " 'means': [],\n",
              " 'medians': [<matplotlib.lines.Line2D at 0x7fd190f16ef0>,\n",
              "  <matplotlib.lines.Line2D at 0x7fd190f2b7f0>,\n",
              "  <matplotlib.lines.Line2D at 0x7fd190f400f0>,\n",
              "  <matplotlib.lines.Line2D at 0x7fd190f499b0>],\n",
              " 'whiskers': [<matplotlib.lines.Line2D at 0x7fd190f160f0>,\n",
              "  <matplotlib.lines.Line2D at 0x7fd190f16470>,\n",
              "  <matplotlib.lines.Line2D at 0x7fd190f209b0>,\n",
              "  <matplotlib.lines.Line2D at 0x7fd190f20d30>,\n",
              "  <matplotlib.lines.Line2D at 0x7fd190f352b0>,\n",
              "  <matplotlib.lines.Line2D at 0x7fd190f35630>,\n",
              "  <matplotlib.lines.Line2D at 0x7fd190f40b70>,\n",
              "  <matplotlib.lines.Line2D at 0x7fd190f40ef0>]}"
            ]
          },
          "metadata": {
            "tags": []
          },
          "execution_count": 14
        },
        {
          "output_type": "display_data",
          "data": {
            "image/png": "[encoded data removed]",
            "text/plain": [
              "<Figure size 432x288 with 1 Axes>"
            ]
          },
          "metadata": {
            "tags": [],
            "needs_background": "light"
          }
        }
      ]
    },
    {
      "cell_type": "code",
      "metadata": {
        "colab": {
          "base_uri": "https://localhost:8080/",
          "height": 519
        },
        "id": "EF-xUryZ4dvl",
        "outputId": "3c4f1bb3-fa0d-4cc8-9f5e-9cadbc70f062"
      },
      "source": [
        "plt.boxplot([cnn[\"F1Score1\"], lstm[\"F1Score1\"]], labels = [\"CNN F1\", \"LSTM F1\"])"
      ],
      "execution_count": 15,
      "outputs": [
        {
          "output_type": "execute_result",
          "data": {
            "text/plain": [
              "{'boxes': [<matplotlib.lines.Line2D at 0x7fd190eb02e8>,\n",
              "  <matplotlib.lines.Line2D at 0x7fd190ebbb00>],\n",
              " 'caps': [<matplotlib.lines.Line2D at 0x7fd190eb0cf8>,\n",
              "  <matplotlib.lines.Line2D at 0x7fd190ebb0b8>,\n",
              "  <matplotlib.lines.Line2D at 0x7fd190ec35f8>,\n",
              "  <matplotlib.lines.Line2D at 0x7fd190ec3978>],\n",
              " 'fliers': [<matplotlib.lines.Line2D at 0x7fd190ebb7b8>,\n",
              "  <matplotlib.lines.Line2D at 0x7fd190e4e048>],\n",
              " 'means': [],\n",
              " 'medians': [<matplotlib.lines.Line2D at 0x7fd190ebb438>,\n",
              "  <matplotlib.lines.Line2D at 0x7fd190ec3cc0>],\n",
              " 'whiskers': [<matplotlib.lines.Line2D at 0x7fd190eb05f8>,\n",
              "  <matplotlib.lines.Line2D at 0x7fd190eb0978>,\n",
              "  <matplotlib.lines.Line2D at 0x7fd190ebbeb8>,\n",
              "  <matplotlib.lines.Line2D at 0x7fd190ec3278>]}"
            ]
          },
          "metadata": {
            "tags": []
          },
          "execution_count": 15
        },
        {
          "output_type": "display_data",
          "data": {
            "image/png": "[encoded data removed]",
            "text/plain": [
              "<Figure size 432x288 with 1 Axes>"
            ]
          },
          "metadata": {
            "tags": [],
            "needs_background": "light"
          }
        }
      ]
    }
  ]
}